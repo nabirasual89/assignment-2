{
  "nbformat": 4,
  "nbformat_minor": 0,
  "metadata": {
    "colab": {
      "provenance": []
    },
    "kernelspec": {
      "name": "python3",
      "display_name": "Python 3"
    },
    "language_info": {
      "name": "python"
    }
  },
  "cells": [
    {
      "cell_type": "markdown",
      "source": [
        "\n",
        "\n",
        "#DATA TYPES AND STRUCTURES **QUESTIONS**\n",
        "\n"
      ],
      "metadata": {
        "id": "t3YEvrxqaK4X"
      }
    },
    {
      "cell_type": "markdown",
      "source": [
        "1. What are data structures, and why are they important?\n",
        " -\n",
        "Data structures are specialized formats for organizing, processing, retrieving, and storing data within a computer. They are fundamental in computer science because they allow for efficient data management, making it easier for users and programs to work with data.\n",
        "\n",
        "Here's a more detailed explanation:\n",
        "\n",
        "What are Data Structures?\n",
        "\n",
        "Organization and Storage:\n",
        "Data structures define how data is arranged and stored in a computer's memory.\n",
        "\n",
        "Efficiency:\n",
        "They help in accessing, updating, and retrieving data efficiently.\n",
        "\n",
        "Problem-Solving:\n",
        "Different data structures are suitable for different types of problems, allowing programmers to choose the most efficient structure for a specific Task.\n",
        "\n",
        "2. Explain the difference between mutable and immutable data types with examples.\n",
        " - Mutable data types can be modified after they're created, while immutable data types cannot. Mutable examples include lists and dictionaries, while immutable examples include strings and tuples.\n",
        "\n",
        "Mutable Data Types:\n",
        "\n",
        " - Definition: Objects whose values can be changed after they are created.\n",
        " - Examples:\n",
        " - Lists: You can add, remove, or modify elements within a list."
      ],
      "metadata": {
        "id": "vEJ4r2F6_TwL"
      }
    },
    {
      "cell_type": "code",
      "source": [
        "        my_list = [1, 2, 3]\n",
        "        my_list.append(4) # Modifying the list\n",
        "        print(my_list) # Output: [1, 2, 3, 4]"
      ],
      "metadata": {
        "colab": {
          "base_uri": "https://localhost:8080/"
        },
        "id": "7Zqyfo_KFQiF",
        "outputId": "2ad65215-cc76-4fc9-acaa-ac464f75f07f"
      },
      "execution_count": null,
      "outputs": [
        {
          "output_type": "stream",
          "name": "stdout",
          "text": [
            "[1, 2, 3, 4]\n"
          ]
        }
      ]
    },
    {
      "cell_type": "markdown",
      "source": [
        "Dictionaries: You can add, remove, or modify key-value pairs in a dictionary.\n",
        "Python\n",
        "\n"
      ],
      "metadata": {
        "id": "GNj-NNXpFfDf"
      }
    },
    {
      "cell_type": "code",
      "source": [
        "        my_dict = {\"name\": \"Alice\", \"age\": 30}\n",
        "        my_dict[\"city\"] = \"New York\" # Adding a new key-value pair\n",
        "        print(my_dict) # Output: {'name': 'Alice', 'age': 30, 'city': 'New York'}"
      ],
      "metadata": {
        "colab": {
          "base_uri": "https://localhost:8080/"
        },
        "id": "YN0qAJ4yFeow",
        "outputId": "f7ce2892-ddf6-4dcb-b414-9db53a2d927b"
      },
      "execution_count": null,
      "outputs": [
        {
          "output_type": "stream",
          "name": "stdout",
          "text": [
            "{'name': 'Alice', 'age': 30, 'city': 'New York'}\n"
          ]
        }
      ]
    },
    {
      "cell_type": "markdown",
      "source": [
        "Sets: You can add or remove elements from a set."
      ],
      "metadata": {
        "id": "um0C-yYnFv7F"
      }
    },
    {
      "cell_type": "code",
      "source": [
        "        my_set = {1, 2, 3}\n",
        "        my_set.add(4) # Adding an element\n",
        "        print(my_set) # Output: {1, 2, 3, 4}"
      ],
      "metadata": {
        "colab": {
          "base_uri": "https://localhost:8080/"
        },
        "id": "VipZwOPoFSSm",
        "outputId": "8ab851e7-f76c-4e3c-fd6d-bddca9f35617"
      },
      "execution_count": null,
      "outputs": [
        {
          "output_type": "stream",
          "name": "stdout",
          "text": [
            "{1, 2, 3, 4}\n"
          ]
        }
      ]
    },
    {
      "cell_type": "markdown",
      "source": [
        "Immutable Data Types:\n",
        "\n",
        "Definition:\n",
        "\n",
        "Objects whose values cannot be changed after they are created. Modifying an immutable object creates a new object with the changed value.\n",
        "\n",
        "Examples:\n",
        "Strings: You can't change the characters within a string directly. Any modification creates a new string.\n"
      ],
      "metadata": {
        "id": "y_ZntK-TF-bi"
      }
    },
    {
      "cell_type": "code",
      "source": [
        "        my_string = \"Hello\"\n",
        "        # my_string[0] = 'J'  # This will raise an error (strings are immutable)\n",
        "        new_string = my_string + \" World\" # Creating a new string\n",
        "        print(new_string) # Output: Hello World"
      ],
      "metadata": {
        "colab": {
          "base_uri": "https://localhost:8080/"
        },
        "id": "qupvuYpyF2Fw",
        "outputId": "401df4da-5f41-42de-cc67-01322cc12bc4"
      },
      "execution_count": null,
      "outputs": [
        {
          "output_type": "stream",
          "name": "stdout",
          "text": [
            "Hello World\n"
          ]
        }
      ]
    },
    {
      "cell_type": "markdown",
      "source": [
        "Tuples: You can't change the elements within a tuple after it's created.\n"
      ],
      "metadata": {
        "id": "w8eVmW5GGQja"
      }
    },
    {
      "cell_type": "code",
      "source": [
        "        my_tuple = (1, 2, 3)\n",
        "        # my_tuple[0] = 4  # This will raise an error (tuples are immutable)\n",
        "        new_tuple = my_tuple + (4,) # Creating a new tuple\n",
        "        print(new_tuple) # Output: (1, 2, 3, 4)"
      ],
      "metadata": {
        "colab": {
          "base_uri": "https://localhost:8080/"
        },
        "id": "f2u18MdhGLBu",
        "outputId": "e6f16f20-b158-4ece-fca6-7d0b16e52fbf"
      },
      "execution_count": null,
      "outputs": [
        {
          "output_type": "stream",
          "name": "stdout",
          "text": [
            "(1, 2, 3, 4)\n"
          ]
        }
      ]
    },
    {
      "cell_type": "markdown",
      "source": [
        "3. What are the main differences between lists and tuples in Python?\n",
        " - Lists and tuples are both fundamental sequence types in Python, serving as containers for ordered collections of items. However, they diverge in mutability and intended use cases.\n",
        "\n",
        "Mutability:\n",
        "\n",
        "Lists are mutable, meaning their contents can be altered after creation. Elements can be added, removed, or modified. Tuples, conversely, are immutable; once defined, their elements cannot be changed.\n",
        "\n",
        "Syntax:\n",
        "\n",
        "Lists are defined using square brackets [], while tuples use parentheses ().\n",
        "\n",
        "Use Cases:\n",
        "\n",
        "Lists are suitable for collections that may require modification, such as storing a series of user inputs or managing a dynamic set of data. Tuples are ideal for representing fixed collections, like coordinates, database records, or settings, where immutability ensures data integrity.\n",
        "\n",
        "Performance:\n",
        "\n",
        "Tuples generally exhibit slightly better performance in terms of memory efficiency and iteration speed compared to lists, owing to their static nature.\n",
        "\n",
        "Methods:\n",
        "\n",
        "Lists possess a wider range of built-in methods for manipulation (e.g., append, insert, remove), while tuples have fewer methods due to their immutability"
      ],
      "metadata": {
        "id": "JMGeldLZGbds"
      }
    },
    {
      "cell_type": "markdown",
      "source": [],
      "metadata": {
        "id": "KXZekOrSGXdU"
      }
    },
    {
      "cell_type": "code",
      "source": [
        "# List example\n",
        "my_list = [1, 2, 3]\n",
        "my_list.append(4)  # Modifying the list\n",
        "print(my_list)  # Output: [1, 2, 3, 4]\n",
        "\n",
        "# Tuple example\n",
        "my_tuple = (1, 2, 3)\n",
        "# my_tuple.append(4) # This would raise an error as tuples are immutable\n",
        "print(my_tuple)"
      ],
      "metadata": {
        "colab": {
          "base_uri": "https://localhost:8080/"
        },
        "id": "cR2H6DtbGVFF",
        "outputId": "7eff0ef8-acd1-451d-beee-955c2cec5a26"
      },
      "execution_count": null,
      "outputs": [
        {
          "output_type": "stream",
          "name": "stdout",
          "text": [
            "[1, 2, 3, 4]\n",
            "(1, 2, 3)\n"
          ]
        }
      ]
    },
    {
      "cell_type": "markdown",
      "source": [
        "4. Describe how dictionaries store data.\n",
        "\n",
        " Dictionaries are used to store data values in key-value pairs. A dictionary is a collection that is ordered*, changeable, and does not allow duplicates. As of Python version 3.7, dictionaries are ordered. In Python 3.6 and earlier, dictionaries are unordered.\n",
        "\n",
        "\n",
        "5. Why might you use a set instead of a list in Python?\n",
        " - Sets and lists serve different purposes in Python, making one more suitable than the other depending on the situation. Here's why you might choose a set over a list:\n",
        "\n",
        "Ensuring uniqueness:\n",
        "\n",
        "Sets, by definition, do not allow duplicate elements. If you need to store a collection of items where duplicates are not permitted, a set is the ideal choice. Attempting to add a duplicate element to a set has no effect.\n",
        "\n",
        "Fast membership testing:\n",
        "\n",
        "Sets are optimized for checking if an element is present. The in operator works much faster on sets compared to lists, especially for large collections. This is because sets use a hash table implementation, allowing for near-constant time lookups.\n",
        "\n",
        "Order is not important:\n",
        "\n",
        "Sets are unordered collections. If the order of elements doesn't matter, using a set can offer performance benefits.\n",
        "\n",
        "Set operations:\n",
        "\n",
        "Sets provide built-in operations like union, intersection, and difference, which can be useful for tasks involving comparing or combining collections of unique elements.\n",
        "Here's a table summarizing the key differences:\n",
        "\n",
        "\n"
      ],
      "metadata": {
        "id": "AtjGrCD-IIBg"
      }
    },
    {
      "cell_type": "code",
      "source": [
        "# Example demonstrating uniqueness and fast membership testing\n",
        "my_list = [1, 2, 2, 3, 4, 4, 5]\n",
        "my_set = {1, 2, 2, 3, 4, 4, 5}\n",
        "\n",
        "print(my_list) # Output: [1, 2, 2, 3, 4, 4, 5]\n",
        "print(my_set)  # Output: {1, 2, 3, 4, 5}\n",
        "\n",
        "print(2 in my_list) # Output: True\n",
        "print(2 in my_set)  # Output: True"
      ],
      "metadata": {
        "colab": {
          "base_uri": "https://localhost:8080/"
        },
        "id": "Ss3Im5sNLo3M",
        "outputId": "217af9cb-98fe-480d-f217-085866eafe47"
      },
      "execution_count": null,
      "outputs": [
        {
          "output_type": "stream",
          "name": "stdout",
          "text": [
            "[1, 2, 2, 3, 4, 4, 5]\n",
            "{1, 2, 3, 4, 5}\n",
            "True\n",
            "True\n"
          ]
        }
      ]
    },
    {
      "cell_type": "markdown",
      "source": [
        "In the example above, the set automatically removes duplicate values. Also, checking if an element is present in a set is faster than in a list, especially with large datasets."
      ],
      "metadata": {
        "id": "I7L9rniGLtLn"
      }
    },
    {
      "cell_type": "markdown",
      "source": [
        "6. What is a string in Python, and how is it different from a list?\n",
        " - In Python, a string is a sequence of characters used to represent text. It is one of the fundamental data types and is immutable, meaning that once a string is created, its value cannot be changed. Strings are enclosed in either single quotes ('...'), double quotes (\"...\"), or triple quotes ('''...''' or \"\"\"...\"\"). Triple quotes are typically used for multi-line strings.\n",
        " -Immutable: A list is immutable, meaning you can modify its elements after creation. On the other hand, a string is immutable, which means you cannot change its characters once it is created. Instead, you need to create a new string with the desired modifications.\n",
        "\n"
      ],
      "metadata": {
        "id": "h_v_XQb-L4bD"
      }
    },
    {
      "cell_type": "code",
      "source": [
        "string1 = 'Hello'\n",
        "string2 = \"World\"\n",
        "string3 = '''This is a\n",
        "multi-line string'''\n",
        "string4 = \"\"\"Another multi-line\n",
        "string\"\"\"\n",
        "\n",
        "print(string1)\n",
        "print(string2)\n",
        "print(string3)\n",
        "print(string4)"
      ],
      "metadata": {
        "id": "dpMtrGyQH-bk",
        "colab": {
          "base_uri": "https://localhost:8080/"
        },
        "outputId": "5c05e729-6d12-491c-ae8d-1204b6721f5e"
      },
      "execution_count": null,
      "outputs": [
        {
          "output_type": "stream",
          "name": "stdout",
          "text": [
            "Hello\n",
            "World\n",
            "This is a \n",
            "multi-line string\n",
            "Another multi-line\n",
            "string\n"
          ]
        }
      ]
    },
    {
      "cell_type": "markdown",
      "source": [
        "7. How do tuples ensure data integrity in Python?\n",
        "\n",
        "  - Tuples in Python ensure data integrity through their immutability. Once a tuple is created, its elements cannot be modified, added, or removed. This characteristic prevents accidental or unauthorized changes to the data, ensuring that the tuple's contents remain constant throughout its lifecycle. Immutability makes tuples suitable for storing data that should not be altered, such as configuration settings or database connection details. It also allows tuples to be used as keys in dictionaries and elements in sets, as their hash values remain consistent"
      ],
      "metadata": {
        "id": "nPk-konzVKQr"
      }
    },
    {
      "cell_type": "markdown",
      "source": [
        "8. What is a hash table, and how does it relate to dictionaries in Python?\n",
        " - A hash table is a data structure that stores key-value pairs, using a hash function to compute an index (or hash code) for each key. This index determines the position in an array (the \"hash table\" itself) where the value is stored. Hash tables are designed for efficient insertion, deletion, and retrieval of data, offering average-case time complexity of O(1) for these operations\n",
        "  -\n",
        "In Python, dictionaries are implemented using hash tables. When a key-value pair is added to a dictionary, Python calculates the hash value of the key using its built-in hash() function. This hash value is then used to determine the index in the underlying hash table where the value will be stored. When retrieving a value, Python again calculates the hash of the key and uses it to quickly locate the value in the table.\n",
        " -\n",
        "Due to the nature of hash functions, collisions (where different keys produce the same hash value) can occur. Python dictionaries handle collisions using a technique called open addressing. This involves probing for an empty slot in the hash table when a collision occurs, ensuring that all key-value pairs can be stored and retrieved.\n",
        " -\n",
        "The efficiency of dictionaries in Python is directly tied to the underlying hash table implementation. The use of hashing allows for fast lookups, insertions, and deletions, making dictionaries a powerful and versatile data structure for a wide range of applications.\n"
      ],
      "metadata": {
        "id": "RuOYXluAWH_A"
      }
    },
    {
      "cell_type": "markdown",
      "source": [
        "9. Can lists contain different data types in Python?\n",
        " - Yes, lists in Python are capable of storing elements of different data types. A single list can contain a mix of integers, floats, strings, booleans, and even other lists, tuples, or dictionaries. This flexibility is a key feature of Python lists, allowing them to accommodate diverse data within the same structure."
      ],
      "metadata": {
        "id": "hDnQRzCcXh0s"
      }
    },
    {
      "cell_type": "code",
      "source": [
        "my_list = [1, \"hello\", 3.14, True, [1, 2, 3]]\n",
        "print(my_list)\n",
        "# Expected output: [1, \"hello\", 3.14, True, [1, 2, 3]]"
      ],
      "metadata": {
        "colab": {
          "base_uri": "https://localhost:8080/"
        },
        "id": "m-3fWeLCUGrm",
        "outputId": "cbe5e764-28e5-4496-d07a-1d1235583ff1"
      },
      "execution_count": null,
      "outputs": [
        {
          "output_type": "stream",
          "name": "stdout",
          "text": [
            "[1, 'hello', 3.14, True, [1, 2, 3]]\n"
          ]
        }
      ]
    },
    {
      "cell_type": "markdown",
      "source": [
        " - Each element in the list maintains its original data type, and Python handles them accordingly. This feature can be useful in various scenarios, such as when grouping related but differently typed information or when constructing complex data structures.\n"
      ],
      "metadata": {
        "id": "z-QGj3-kYYhE"
      }
    },
    {
      "cell_type": "markdown",
      "source": [
        " 10. Explain why strings are immutable in Python.\n",
        "  - Strings in Python are immutable because of several design and performance considerations. Immutability means that once a string is created, its value cannot be changed. Any operation that appears to modify a string actually creates a new string object.\n",
        "   -\n",
        "One key reason for string immutability is to allow strings to be used as keys in dictionaries. Dictionaries require their keys to be hashable, and mutable objects cannot be hashed reliably since their values can change. Making strings immutable ensures that their hash values remain constant, allowing them to be Used as dictionary keys.\n",
        " -\n",
        "Immutability also simplifies memory management. Since strings cannot be changed in place, the interpreter can optimize memory allocation and deallocation. It also makes it easier to share string data between different parts of the program without risking unintended modifications.\n",
        " -\n",
        "Furthermore, immutability enhances thread safety. In a multithreaded environment, multiple threads can access and use the same string object without the risk of data corruption due to concurrent modifications. This eliminates the need for locks and other synchronization mechanisms, improving performance and simplifying code."
      ],
      "metadata": {
        "id": "Qv1MKswQYp1j"
      }
    },
    {
      "cell_type": "markdown",
      "source": [
        "11. What advantages do dictionaries offer over lists for certain tasks?\n",
        " - 1 - Dictionaries in Python offer fast data retrieval: Unlike lists, where you have to traverse through each element to find a value, dictionaries use hash tables for quick access to values based on keys."
      ],
      "metadata": {
        "id": "9BDUVSwIcIFO"
      }
    },
    {
      "cell_type": "markdown",
      "source": [
        "12. Describe a scenario where using a tuple would be preferable over a list.\n",
        " - Tuples are immutable. Hence, they are primarily used to store data that doesn't change frequently. Any operation can store data in a tuple when you don't want it to change. Tuples are great to use if you want the data in your collection to be read-only, never to change, and always remain the same and constant."
      ],
      "metadata": {
        "id": "lvAe_q_edCcp"
      }
    },
    {
      "cell_type": "markdown",
      "source": [
        "13. How do sets handle duplicate values in Python?\n",
        "  - Sets in Python are designed to store only unique elements. When an attempt is made to add a duplicate value to a set, the set automatically discards the duplicate, maintaining its uniqueness property. This behavior makes sets a useful tool for tasks such as removing duplicates from a list or checking for the presence of unique items in a collection."
      ],
      "metadata": {
        "id": "oOLoAi1LiBYf"
      }
    },
    {
      "cell_type": "code",
      "source": [
        "my_set = {1, 2, 2, 3, 4, 4, 5}\n",
        "print(my_set)  # Output: {1, 2, 3, 4, 5}"
      ],
      "metadata": {
        "colab": {
          "base_uri": "https://localhost:8080/"
        },
        "id": "dWQ7DFsCYSXf",
        "outputId": "6014fd01-b935-438c-ed90-5a82817b5a82"
      },
      "execution_count": null,
      "outputs": [
        {
          "output_type": "stream",
          "name": "stdout",
          "text": [
            "{1, 2, 3, 4, 5}\n"
          ]
        }
      ]
    },
    {
      "cell_type": "markdown",
      "source": [
        "14. What is a nested dictionary, and give an example of its use case?\n",
        " - A nested dictionary in Python is a dictionary where the values are themselves dictionaries. This allows for structuring data in a hierarchical way, where you can store complex, multi-layered information. A common use case is representing hierarchical data like family trees or organizational charts.\n",
        "\n",
        "Example:\n",
        "\n",
        "Let's say you want to store information about a family tree:"
      ],
      "metadata": {
        "id": "6qjFUfJoilcg"
      }
    },
    {
      "cell_type": "code",
      "source": [
        "family_tree = {\n",
        "    \"person1\": {\n",
        "        \"name\": \"John Doe\",\n",
        "        \"age\": 50,\n",
        "        \"children\": {\n",
        "            \"child1\": {\n",
        "                \"name\": \"Jane Doe\",\n",
        "                \"age\": 25\n",
        "            },\n",
        "            \"child2\": {\n",
        "                \"name\": \"Peter Doe\",\n",
        "                \"age\": 22\n",
        "            }\n",
        "        }\n",
        "    },\n",
        "    \"person2\": {\n",
        "        \"name\": \"Mary Doe\",\n",
        "        \"age\": 45,\n",
        "        \"children\": {\n",
        "            \"child1\": {\n",
        "                \"name\": \"Susan Doe\",\n",
        "                \"age\": 20\n",
        "            }\n",
        "        }\n",
        "    }\n",
        "}"
      ],
      "metadata": {
        "id": "UJ_FBCNdicgT"
      },
      "execution_count": null,
      "outputs": []
    },
    {
      "cell_type": "markdown",
      "source": [
        "15. Can you modify the elements of a tuple? Explain why or why not.\n",
        " - No, you cannot directly modify the elements of a tuple in Python. Tuples are immutable data structures, meaning their elements cannot be changed after they are created. Attempting to assign a new value to an element within a tuple will raise a TypeError.\n",
        "\n",
        "Here's why:\n",
        "\n",
        "Immutability for Efficiency:\n",
        "\n",
        "Tuples are designed to be immutable, which makes them faster to process and use in situations where you need to ensure data integrity and consistency.\n",
        "\n",
        "Hashing:\n",
        "\n",
        "Because tuples are immutable, they can be used as keys in dictionaries and as elements in sets. If a data structure's elements are mutable, then its hash value can change if the elements are modified, which can disrupt the operations of these data structures.\n",
        "\n",
        "Alternatives for Modification:\n",
        "\n",
        "If you need to modify a collection of elements, you should use a list instead, as lists are mutable. You can also create a new tuple with the desired changes by using techniques like tuple slicing or list conversion.\n",
        "\n",
        "In summary, tuples are designed for fixed, unchangeable collections of data, and their immutability provides benefits in terms of performance and data integrity."
      ],
      "metadata": {
        "id": "8w1MSHRRjkKG"
      }
    },
    {
      "cell_type": "markdown",
      "source": [
        "16. What is a nested dictionary, and an example of its use case?\n",
        " - A nested dictionary is a dictionary where the value associated with one or more keys is itself another dictionary. In essence, it's a dictionary containing other dictionaries as values. A use case for nested dictionaries is organizing employee data by department, where each department's entry contains a dictionary with individual employee details.\n",
        "\n",
        "Example:"
      ],
      "metadata": {
        "id": "RQYDMv-yka6R"
      }
    },
    {
      "cell_type": "code",
      "source": [
        "# Create a nested dictionary to store employee information\n",
        "employee_data = {\n",
        "    \"department_1\": {\n",
        "        \"employee_1\": {\"name\": \"Alice\", \"age\": 30, \"salary\": 60000},\n",
        "        \"employee_2\": {\"name\": \"Bob\", \"age\": 25, \"salary\": 50000}\n",
        "    },\n",
        "    \"department_2\": {\n",
        "        \"employee_3\": {\"name\": \"Charlie\", \"age\": 35, \"salary\": 70000},\n",
        "        \"employee_4\": {\"name\": \"David\", \"age\": 28, \"salary\": 55000}\n",
        "    }\n",
        "}\n",
        "\n",
        "# Access employee data\n",
        "print(employee_data[\"department_1\"][\"employee_1\"]) # Output: {'name': 'Alice', 'age': 30, 'salary': 60000}"
      ],
      "metadata": {
        "colab": {
          "base_uri": "https://localhost:8080/"
        },
        "id": "ME2UDpEKlVCX",
        "outputId": "b415fde5-8b28-4b1b-d33e-4a5fff0c3d82"
      },
      "execution_count": null,
      "outputs": [
        {
          "output_type": "stream",
          "name": "stdout",
          "text": [
            "{'name': 'Alice', 'age': 30, 'salary': 60000}\n"
          ]
        }
      ]
    },
    {
      "cell_type": "markdown",
      "source": [
        "In this example, employee_data is a nested dictionary. The keys are department names (\"department_1\", \"department_2\"). The values associated with these keys are dictionaries containing individual employee information, such as their name, age, and salary. This structure allows for efficient organization and retrieval of complex data."
      ],
      "metadata": {
        "id": "5uqYzf8jle64"
      }
    },
    {
      "cell_type": "markdown",
      "source": [
        "17. Describe the time complexity of accessing elements in a dictionary.\n",
        " - The time complexity of accessing an element in a dictionary (also known as a hash table or associative array) is typically O(1), meaning it takes constant time regardless of the dictionary's size. This is because dictionaries use hashing to map keys to their corresponding values, allowing for direct access to the desired value in a single step.\n",
        "\n",
        "Explanation:\n",
        "\n",
        "Hashing:\n",
        "\n",
        "A dictionary uses a hash function to convert the key into a hash value (an integer) that serves as an index into an internal array.\n",
        "\n",
        "Direct Access:\n",
        "\n",
        "Once the hash value is calculated, the value associated with the key can be directly accessed from the array using that hash value as the index.\n",
        "\n",
        "Constant Time:\n",
        "\n",
        "This direct access mechanism allows for retrieving a value in O(1) time, even with a large dictionary.\n",
        "\n",
        "Important Considerations:\n",
        "\n",
        "Worst Case:\n",
        "\n",
        "While the average case time complexity is O(1), the worst-case scenario for accessing a value in a dictionary can be O(n) (linear time), where n is the number of elements in the dictionary. This occurs if there are many hash collisions, where different keys map to the same hash value, forcing a linear search through the collided items.\n",
        "\n",
        "Key Object:\n",
        "\n",
        "The time complexity of accessing a value in a dictionary also depends on the time complexity of the key's hash function and its equality comparison function.\n",
        "\n",
        "Python's Dictionary Implementation:\n",
        "\n",
        "Python's dictionary implementation reduces the average complexity of dictionary lookups to O(1) by requiring that key objects provide a \"hash\" function."
      ],
      "metadata": {
        "id": "0ibvQSAoRW7b"
      }
    },
    {
      "cell_type": "markdown",
      "source": [
        " 18. In what situations are lists preferred over dictionaries?\n",
        "  - For quick data look-ups, configurations, or caches, favor dictionaries. For ordered collections and sequence operations, such as maintaining a stack or queue, lists are more suitable."
      ],
      "metadata": {
        "id": "nM8F2dWvVQ63"
      }
    },
    {
      "cell_type": "markdown",
      "source": [
        "19. Why are dictionaries considered unordered, and how does that affect data retrieval?\n",
        " - A dictionary is termed an unordered collection of objects because dictionaries do not maintain any inherent order of the items based on when they were added. In older versions of Python (before 3.7), dictionaries did not preserve insertion order at all."
      ],
      "metadata": {
        "id": "y__JsA98V6ua"
      }
    },
    {
      "cell_type": "markdown",
      "source": [
        "20. Explain the difference between a list and a dictionary in terms of data retrieval.\n",
        "- In terms of data retrieval, a dictionary excels at fast lookups by key, while a list is better suited for sequential access by index. Dictionaries use a hash-based approach, allowing for nearly instantaneous retrieval of a value when the key is known, whereas lists require traversing the list sequentially until the desired element is found.\n",
        "\n",
        "Here's a more detailed breakdown:\n",
        "\n",
        "Lists:\n",
        "\n",
        "Elements are accessed by their position (index) in the sequence.\n",
        "\n",
        "Retrieval time is proportional to the list's size, as elements need to be checked one by one.\n",
        "\n",
        "Best for ordered collections where you know the position of the desired element.\n",
        "\n",
        "Dictionaries:\n",
        "\n",
        "Elements are accessed by their associated key.\n",
        "\n",
        "Retrieval time is very fast (close to O(1) or constant time) due to the use of a hash table.\n",
        "\n",
        "Ideal for scenarios where you need to quickly look up data based on a unique identifier.  "
      ],
      "metadata": {
        "id": "tL07skJuXm3N"
      }
    },
    {
      "cell_type": "markdown",
      "source": [
        "# PRACTICAL QUEATIONS\n",
        "\n"
      ],
      "metadata": {
        "id": "Bm79HoPyYymE"
      }
    },
    {
      "cell_type": "markdown",
      "source": [
        " 1. Wride a code to create a string with your name and print it."
      ],
      "metadata": {
        "id": "9I4nDwKMbxz1"
      }
    },
    {
      "cell_type": "code",
      "source": [
        "name = input(\"please enter your name: \")"
      ],
      "metadata": {
        "id": "vYhzWZcqcjwC",
        "colab": {
          "base_uri": "https://localhost:8080/"
        },
        "outputId": "dffd9666-be68-4bd5-ee64-16ee43e821b7"
      },
      "execution_count": null,
      "outputs": [
        {
          "name": "stdout",
          "output_type": "stream",
          "text": [
            "please enter your name: Tahameem kotnal\n"
          ]
        }
      ]
    },
    {
      "cell_type": "code",
      "source": [
        "name"
      ],
      "metadata": {
        "colab": {
          "base_uri": "https://localhost:8080/",
          "height": 35
        },
        "id": "DO6aal6AkopD",
        "outputId": "8e3c5039-fe7f-4ee6-955e-1b5359f05777"
      },
      "execution_count": null,
      "outputs": [
        {
          "output_type": "execute_result",
          "data": {
            "text/plain": [
              "'Tahameem kotnal'"
            ],
            "application/vnd.google.colaboratory.intrinsic+json": {
              "type": "string"
            }
          },
          "metadata": {},
          "execution_count": 4
        }
      ]
    },
    {
      "cell_type": "markdown",
      "source": [
        "2. Write a code to find the length of the string \"Hello World\"."
      ],
      "metadata": {
        "id": "uUWWOmswlBgE"
      }
    },
    {
      "cell_type": "code",
      "source": [
        "  string = \"Hello World \"\n",
        "  length = len(string)\n",
        "  print(length)\n"
      ],
      "metadata": {
        "colab": {
          "base_uri": "https://localhost:8080/"
        },
        "id": "F53lCm57k6wc",
        "outputId": "b34056e0-30a7-40e4-acc9-9e06c183ced4"
      },
      "execution_count": null,
      "outputs": [
        {
          "output_type": "stream",
          "name": "stdout",
          "text": [
            "12\n"
          ]
        }
      ]
    },
    {
      "cell_type": "markdown",
      "source": [
        "3.  Write a code to slice the first 3 characters from the string \"Python Programming\"."
      ],
      "metadata": {
        "id": "iTP8s2etnkJe"
      }
    },
    {
      "cell_type": "code",
      "source": [
        "original_string = \"python programming\"\n",
        "sliced_string = original_string[:3]\n",
        "print(sliced_string)\n"
      ],
      "metadata": {
        "id": "GVoWl5wQmZJi",
        "colab": {
          "base_uri": "https://localhost:8080/"
        },
        "outputId": "5bc79102-cd92-4ca7-d6d8-2818e3071501"
      },
      "execution_count": null,
      "outputs": [
        {
          "output_type": "stream",
          "name": "stdout",
          "text": [
            "pyt\n"
          ]
        }
      ]
    },
    {
      "cell_type": "markdown",
      "source": [
        "4. Write a code to convert the string \"hello\" to uppercase."
      ],
      "metadata": {
        "id": "yJIC7sONXA-X"
      }
    },
    {
      "cell_type": "code",
      "source": [
        "string = \"hello\"\n",
        "uppercase_string = string.upper()\n",
        "print(uppercase_string)"
      ],
      "metadata": {
        "colab": {
          "base_uri": "https://localhost:8080/"
        },
        "id": "bfWeC8zSYfrg",
        "outputId": "e7977d88-1838-4ae6-d743-ad67cbd4c331"
      },
      "execution_count": null,
      "outputs": [
        {
          "output_type": "stream",
          "name": "stdout",
          "text": [
            "HELLO\n"
          ]
        }
      ]
    },
    {
      "cell_type": "markdown",
      "source": [
        "5. Wirte a code to replace the word \"apple\" with \"orange\" in the string \"I like apple\"."
      ],
      "metadata": {
        "id": "KdcPawSqY7fn"
      }
    },
    {
      "cell_type": "code",
      "source": [
        "original_string = \"I like apple\"\n",
        "new_string = original_string.replace(\"apple\", \"orange\")\n",
        "print(new_string)\n"
      ],
      "metadata": {
        "colab": {
          "base_uri": "https://localhost:8080/"
        },
        "id": "G0mtSx6bY05V",
        "outputId": "e0c2b772-ab6b-457d-910a-0d716f729e64"
      },
      "execution_count": null,
      "outputs": [
        {
          "output_type": "stream",
          "name": "stdout",
          "text": [
            "I like orange\n"
          ]
        }
      ]
    },
    {
      "cell_type": "markdown",
      "source": [
        "6. Write a code to create a list with numbers 1 to 5 and print it."
      ],
      "metadata": {
        "id": "piAhNWUNba1l"
      }
    },
    {
      "cell_type": "code",
      "source": [
        "# Creating a list with numbers from 1 to 5\n",
        "numbers = [1, 2, 3, 4, 5]\n",
        "\n",
        "# Printing the list\n",
        "print(numbers)\n"
      ],
      "metadata": {
        "colab": {
          "base_uri": "https://localhost:8080/"
        },
        "id": "B37F5n6Catoi",
        "outputId": "57c3c6a0-7fe3-4bc1-b4b2-7f07348ed460"
      },
      "execution_count": null,
      "outputs": [
        {
          "output_type": "stream",
          "name": "stdout",
          "text": [
            "[1, 2, 3, 4, 5]\n"
          ]
        }
      ]
    },
    {
      "cell_type": "markdown",
      "source": [
        "7. Write a code to append the number 10 to the list [1, 2, 3, 4]."
      ],
      "metadata": {
        "id": "eDsFS6thcoOk"
      }
    },
    {
      "cell_type": "code",
      "source": [
        "my_list = [1, 2, 3, 4, 5]\n",
        "my_list.append(10)\n",
        "print(my_list)\n"
      ],
      "metadata": {
        "colab": {
          "base_uri": "https://localhost:8080/"
        },
        "id": "nFTtXXsZcefJ",
        "outputId": "0698c868-56ad-4883-83c8-de8972cce4db"
      },
      "execution_count": null,
      "outputs": [
        {
          "output_type": "stream",
          "name": "stdout",
          "text": [
            "[1, 2, 3, 4, 5, 10]\n"
          ]
        }
      ]
    },
    {
      "cell_type": "markdown",
      "source": [
        "8. Write a code to remove the number 3 from the list [1, 2, 3, 4, 5]"
      ],
      "metadata": {
        "id": "uDtfNqJ0eFry"
      }
    },
    {
      "cell_type": "code",
      "source": [
        "my_list = [1, 2, 3, 4, 5]\n",
        "my_list.remove(3)\n",
        "print(my_list)"
      ],
      "metadata": {
        "colab": {
          "base_uri": "https://localhost:8080/"
        },
        "id": "wuuZUX7BeB1f",
        "outputId": "8cb67060-49cc-410f-e075-cab5a778e246"
      },
      "execution_count": null,
      "outputs": [
        {
          "output_type": "stream",
          "name": "stdout",
          "text": [
            "[1, 2, 4, 5]\n"
          ]
        }
      ]
    },
    {
      "cell_type": "markdown",
      "source": [
        "9. Write a code to access the second element in the list ['a', 'b', 'c', 'd']."
      ],
      "metadata": {
        "id": "vTpXwGmXetw5"
      }
    },
    {
      "cell_type": "code",
      "source": [
        "my_list = [10, 20, 30, 40, 50]\n",
        "second_element = my_list[1]\n",
        "print(second_element)\n"
      ],
      "metadata": {
        "colab": {
          "base_uri": "https://localhost:8080/"
        },
        "id": "bGsVMmS2erul",
        "outputId": "07c6e287-9040-4f3c-e904-780ac37c103c"
      },
      "execution_count": null,
      "outputs": [
        {
          "output_type": "stream",
          "name": "stdout",
          "text": [
            "20\n"
          ]
        }
      ]
    },
    {
      "cell_type": "markdown",
      "source": [
        "10. Write a code to reverse the list [10, 20, 30 ,40 50]"
      ],
      "metadata": {
        "id": "ixqpO2KhfPl_"
      }
    },
    {
      "cell_type": "code",
      "source": [
        "values = [10, 20, 30, 40, 50]\n",
        "values.reverse()\n",
        "print(values)"
      ],
      "metadata": {
        "colab": {
          "base_uri": "https://localhost:8080/"
        },
        "id": "QnpLqu3KfK2C",
        "outputId": "e0647436-843c-4e91-85ad-1a5ccaea71b3"
      },
      "execution_count": null,
      "outputs": [
        {
          "output_type": "stream",
          "name": "stdout",
          "text": [
            "[50, 40, 30, 20, 10]\n"
          ]
        }
      ]
    },
    {
      "cell_type": "markdown",
      "source": [
        "11.Write a code to create a tuple with the elements 100, 200, 300 and print it."
      ],
      "metadata": {
        "id": "5GMpQedqf4v_"
      }
    },
    {
      "cell_type": "code",
      "source": [
        "# Creating a tuple with the elements 100, 200, and 300\n",
        "my_tuple = (100, 200, 300)\n",
        "\n",
        "# Printing the tuple\n",
        "print(my_tuple)\n"
      ],
      "metadata": {
        "colab": {
          "base_uri": "https://localhost:8080/"
        },
        "id": "dcNLT75If2xX",
        "outputId": "698333b6-efc9-459c-cd33-01f1bcbc25a0"
      },
      "execution_count": null,
      "outputs": [
        {
          "output_type": "stream",
          "name": "stdout",
          "text": [
            "(100, 200, 300)\n"
          ]
        }
      ]
    },
    {
      "cell_type": "markdown",
      "source": [
        "12. Write a code to access the second-to-last element of the tuple('red', 'green', 'blue', 'yellow,).\n",
        "\n"
      ],
      "metadata": {
        "id": "-IkbeJqsge7p"
      }
    },
    {
      "cell_type": "code",
      "source": [
        "# Define the tuple\n",
        "colors = ('red', 'green', 'blue', 'yellow')\n",
        "\n",
        "# Access the second-to-last element\n",
        "second_to_last_element = colors[-2]\n",
        "\n",
        "# Print the result\n",
        "print(\"The second-to-last element is:\", second_to_last_element)\n"
      ],
      "metadata": {
        "colab": {
          "base_uri": "https://localhost:8080/"
        },
        "id": "_PWf8xqegbf3",
        "outputId": "0f22b4bf-3af1-4889-e693-aa3d06529b9e"
      },
      "execution_count": null,
      "outputs": [
        {
          "output_type": "stream",
          "name": "stdout",
          "text": [
            "The second-to-last element is: blue\n"
          ]
        }
      ]
    },
    {
      "cell_type": "markdown",
      "source": [
        "13. Write a code to find the minimum number in the tuple (10, 20, 5, 15)."
      ],
      "metadata": {
        "id": "4eE7CFWkhRGu"
      }
    },
    {
      "cell_type": "code",
      "source": [
        "# Define the tuple\n",
        "numbers = (10, 20, 5, 15)\n",
        "\n",
        "# Find the minimum number\n",
        "min_number = min(numbers)\n",
        "\n",
        "# Print the result\n",
        "print(\"The minimum number in the tuple is:\", min_number)\n"
      ],
      "metadata": {
        "colab": {
          "base_uri": "https://localhost:8080/"
        },
        "id": "5EHyuJkphOqa",
        "outputId": "9598e717-a51c-4453-be21-e3c710431ebf"
      },
      "execution_count": null,
      "outputs": [
        {
          "output_type": "stream",
          "name": "stdout",
          "text": [
            "The minimum number in the tuple is: 5\n"
          ]
        }
      ]
    },
    {
      "cell_type": "markdown",
      "source": [
        " 14. Write a code to find the index of the element \"cat\" in the tuple ('dog','cat','rabbit')."
      ],
      "metadata": {
        "id": "WpjPQNK6iWVr"
      }
    },
    {
      "cell_type": "code",
      "source": [
        "# Define the tuple\n",
        "animals = (\"dog\", \"cat\", \"rabbit\")\n",
        "\n",
        "# Find the index of the element \"cat\"\n",
        "index_of_cat = animals.index(\"cat\")\n",
        "\n",
        "# Print the index\n",
        "print(\"The index of 'cat' is:\", index_of_cat)\n"
      ],
      "metadata": {
        "colab": {
          "base_uri": "https://localhost:8080/"
        },
        "id": "3daRwaYziV1w",
        "outputId": "c1bdf603-67e1-449f-9781-ac8d603531ce"
      },
      "execution_count": null,
      "outputs": [
        {
          "output_type": "stream",
          "name": "stdout",
          "text": [
            "The index of 'cat' is: 1\n"
          ]
        }
      ]
    },
    {
      "cell_type": "markdown",
      "source": [
        "15. Write a code to creat a tuple containing three different fruits and check if \"kiwi\", is in it."
      ],
      "metadata": {
        "id": "gEXyeCgdis3K"
      }
    },
    {
      "cell_type": "code",
      "source": [
        "# Create a tuple with three different fruits\n",
        "fruits = (\"apple\", \"banana\", \"cherry\")\n",
        "\n",
        "# Check if \"kiwi\" is in the tuple\n",
        "if \"kiwi\" in fruits:\n",
        "    print(\"Kiwi is in the tuple.\")\n",
        "else:\n",
        "    print(\"Kiwi is not in the tuple.\")\n"
      ],
      "metadata": {
        "colab": {
          "base_uri": "https://localhost:8080/"
        },
        "id": "tF9ZivuKilxh",
        "outputId": "5fb1a685-f863-4c15-eca8-5ed5403f780b"
      },
      "execution_count": null,
      "outputs": [
        {
          "output_type": "stream",
          "name": "stdout",
          "text": [
            "Kiwi is not in the tuple.\n"
          ]
        }
      ]
    },
    {
      "cell_type": "markdown",
      "source": [
        "16. Write a code to create a set with the elements 'a', 'b', 'c' and print it"
      ],
      "metadata": {
        "id": "7Khh0CxLlJhw"
      }
    },
    {
      "cell_type": "code",
      "source": [
        "# Creating a set using set literal\n",
        "my_set = {'a', 'b', 'c'}\n",
        "print(my_set)\n"
      ],
      "metadata": {
        "colab": {
          "base_uri": "https://localhost:8080/"
        },
        "id": "m3D4wmonm0Hp",
        "outputId": "8b833081-59d6-44f0-ce4e-1b6c9cdd7778"
      },
      "execution_count": null,
      "outputs": [
        {
          "output_type": "stream",
          "name": "stdout",
          "text": [
            "{'b', 'c', 'a'}\n"
          ]
        }
      ]
    },
    {
      "cell_type": "markdown",
      "source": [
        "17. Write a code to clear all elements from the set{1, 2, 3, 4, 5}."
      ],
      "metadata": {
        "id": "-gOPAtF-m2Vp"
      }
    },
    {
      "cell_type": "code",
      "source": [
        "# Initialize the set with elements 1, 2, 3, 4, 5\n",
        "my_set = {1, 2, 3, 4, 5}\n",
        "\n",
        "# Clear all elements from the set\n",
        "my_set.clear()\n",
        "\n",
        "# Print the set to confirm it's empty\n",
        "print(my_set)\n"
      ],
      "metadata": {
        "colab": {
          "base_uri": "https://localhost:8080/"
        },
        "id": "wE0v4rxYjPnu",
        "outputId": "bb28e81c-04ae-470c-b8e9-3cda1d59c9cd"
      },
      "execution_count": null,
      "outputs": [
        {
          "output_type": "stream",
          "name": "stdout",
          "text": [
            "set()\n"
          ]
        }
      ]
    },
    {
      "cell_type": "markdown",
      "source": [
        "18. Write a code to remove the element 4 from the set {1, 2, , 4}."
      ],
      "metadata": {
        "id": "11jN_QBCmPq_"
      }
    },
    {
      "cell_type": "code",
      "source": [
        "# Define the set\n",
        "my_set = {1, 2, 3, 4}\n",
        "\n",
        "# Remove the element 4\n",
        "my_set.discard(4)\n",
        "\n",
        "# Print the updated set\n",
        "print(my_set)\n"
      ],
      "metadata": {
        "colab": {
          "base_uri": "https://localhost:8080/"
        },
        "id": "jPwgWPTEmMSw",
        "outputId": "61d6379c-d54d-4231-d2f0-03b0747cd13e"
      },
      "execution_count": null,
      "outputs": [
        {
          "output_type": "stream",
          "name": "stdout",
          "text": [
            "{1, 2, 3}\n"
          ]
        }
      ]
    },
    {
      "cell_type": "markdown",
      "source": [
        "19. Write a code to find the union of two sets {1, 2, 3} and {3, 4, 5}."
      ],
      "metadata": {
        "id": "_IilKxaHn41K"
      }
    },
    {
      "cell_type": "code",
      "source": [
        "set1 = {1, 2, 3}\n",
        "set2 = {3, 4, 5}\n",
        "\n",
        "union_set = set1.union(set2)\n",
        "print(union_set)\n"
      ],
      "metadata": {
        "colab": {
          "base_uri": "https://localhost:8080/"
        },
        "id": "NArBHazRn3xq",
        "outputId": "e1c92531-4041-4ed0-eab1-171c78b9c993"
      },
      "execution_count": null,
      "outputs": [
        {
          "output_type": "stream",
          "name": "stdout",
          "text": [
            "{1, 2, 3, 4, 5}\n"
          ]
        }
      ]
    },
    {
      "cell_type": "markdown",
      "source": [
        "20. Write a code to find the intersection of two sets{1, 2,3} and {2, 3, 4}."
      ],
      "metadata": {
        "id": "O9lFZ2-zoVVf"
      }
    },
    {
      "cell_type": "code",
      "source": [
        "# Define the sets\n",
        "set1 = {1, 2, 3}\n",
        "set2 = {2, 3, 4}\n",
        "\n",
        "# Find the intersection\n",
        "intersection = set1.intersection(set2)\n",
        "\n",
        "# Print the result\n",
        "print(\"The intersection of the sets is:\", intersection)\n"
      ],
      "metadata": {
        "colab": {
          "base_uri": "https://localhost:8080/"
        },
        "id": "ctwYcqNHoSRm",
        "outputId": "403ff1db-9529-4d17-d25b-1bc9e60f7c92"
      },
      "execution_count": null,
      "outputs": [
        {
          "output_type": "stream",
          "name": "stdout",
          "text": [
            "The intersection of the sets is: {2, 3}\n"
          ]
        }
      ]
    },
    {
      "cell_type": "markdown",
      "source": [
        "21.Write a code to create a dictionary with the keys \"name\", \"age\" and \"city\",and print it."
      ],
      "metadata": {
        "id": "qfvlGaXko1tk"
      }
    },
    {
      "cell_type": "code",
      "source": [
        "# Creating the dictionary\n",
        "person_info = {\n",
        "    \"name\": \"Tahameem\",\n",
        "    \"age\": 22,\n",
        "    \"city\": \"Bengalore\"\n",
        "}\n",
        "\n",
        "# Printing the dictionary\n",
        "print(person_info)\n"
      ],
      "metadata": {
        "colab": {
          "base_uri": "https://localhost:8080/"
        },
        "id": "yBJ6wkG_ozMB",
        "outputId": "e6c454e1-6656-42ce-eba7-6e66bda52a6c"
      },
      "execution_count": null,
      "outputs": [
        {
          "output_type": "stream",
          "name": "stdout",
          "text": [
            "{'name': 'Tahameem', 'age': 22, 'city': 'Bengalore'}\n"
          ]
        }
      ]
    },
    {
      "cell_type": "markdown",
      "source": [
        "22. Write a code to add a new key-value pair \"country\": \"USA\" to the dictonary{'name:'johan', 'age':22}."
      ],
      "metadata": {
        "id": "0mpmsNe6p9Dv"
      }
    },
    {
      "cell_type": "code",
      "source": [
        "# Existing dictionary\n",
        "person = {\n",
        "    'name': 'johan',\n",
        "    'age': 25\n",
        "}\n",
        "\n",
        "# Adding new key-value pair\n",
        "person['country'] = 'USA'\n",
        "\n",
        "# Printing the updated dictionary\n",
        "print(person)\n"
      ],
      "metadata": {
        "colab": {
          "base_uri": "https://localhost:8080/"
        },
        "id": "fYq9mx5xp5V4",
        "outputId": "260d1c61-ac5b-4e6e-e80e-a9f638ebe9e4"
      },
      "execution_count": null,
      "outputs": [
        {
          "output_type": "stream",
          "name": "stdout",
          "text": [
            "{'name': 'johan', 'age': 25, 'country': 'USA'}\n"
          ]
        }
      ]
    },
    {
      "cell_type": "markdown",
      "source": [
        "23. Write a code to check if the value associated with the key \"name\" in the dictionary{'name':'Alice','age':30}."
      ],
      "metadata": {
        "id": "O03j-LWhq_Bj"
      }
    },
    {
      "cell_type": "code",
      "source": [
        "# Define the dictionary\n",
        "alice = {\n",
        "    \"name\": \"Alice\",\n",
        "    \"age\": 30\n",
        "}\n",
        "\n",
        "# Check if the values match\n",
        "if alice.get(\"name\") == \"Alice\" and alice.get(\"age\") == 30:\n",
        "    print(\"The name is Alice and the age is 30.\")\n",
        "else:\n",
        "    print(\"The values do not match.\")\n"
      ],
      "metadata": {
        "colab": {
          "base_uri": "https://localhost:8080/"
        },
        "id": "Zh3uhCKKq9Ft",
        "outputId": "6181a994-7d7f-4b0d-a796-d53f1e930a56"
      },
      "execution_count": null,
      "outputs": [
        {
          "output_type": "stream",
          "name": "stdout",
          "text": [
            "The name is Alice and the age is 30.\n"
          ]
        }
      ]
    },
    {
      "cell_type": "markdown",
      "source": [
        "24. Write a code to remove the key \"age\" from the dictionary{'name':'Bob', 'age':22, 'city':'New York'}."
      ],
      "metadata": {
        "id": "aD4SB5mTrrLY"
      }
    },
    {
      "cell_type": "code",
      "source": [
        "# Initial dictionary\n",
        "bob = {\n",
        "    \"name\": \"bob\",\n",
        "    \"age\": 22,\n",
        "    \"city\": \"new york\"\n",
        "}\n",
        "\n",
        "# Remove the key 'age'\n",
        "bob.pop(\"age\", None)\n",
        "\n",
        "# Print the updated dictionary\n",
        "print(bob)\n"
      ],
      "metadata": {
        "colab": {
          "base_uri": "https://localhost:8080/"
        },
        "id": "AC0dFHXLrpEG",
        "outputId": "54bc8b4e-2075-4234-a4da-c5a4bf9f3d5e"
      },
      "execution_count": null,
      "outputs": [
        {
          "output_type": "stream",
          "name": "stdout",
          "text": [
            "{'name': 'bob', 'city': 'new york'}\n"
          ]
        }
      ]
    },
    {
      "cell_type": "markdown",
      "source": [
        "25. Write a code to check if the key \"city\" exist in the dictionary {'name':Alice', 'city':'paris'}."
      ],
      "metadata": {
        "id": "RBDaSiDOsspZ"
      }
    },
    {
      "cell_type": "code",
      "source": [
        "# Define the dictionary\n",
        "alice_city = {\n",
        "    \"name\": \"Alice\",\n",
        "    \"city\": \"Paris\"\n",
        "}\n",
        "\n",
        "# Check if the key 'city' exists and its value is 'Paris'\n",
        "if \"city\" in alice_city and alice_city[\"city\"] == \"Paris\":\n",
        "    print(\"The key 'city' exists and its value is 'Paris'.\")\n",
        "else:\n",
        "    print(\"The key 'city' does not exist or its value is not 'Paris'.\")\n"
      ],
      "metadata": {
        "colab": {
          "base_uri": "https://localhost:8080/"
        },
        "id": "S8qbubIHsrvB",
        "outputId": "f4f547e0-86e2-4d90-acab-1bb8083a1a27"
      },
      "execution_count": null,
      "outputs": [
        {
          "output_type": "stream",
          "name": "stdout",
          "text": [
            "The key 'city' exists and its value is 'Paris'.\n"
          ]
        }
      ]
    },
    {
      "cell_type": "markdown",
      "source": [
        "26. Write a code to create a list, a tuple, and a dictionary, and print them all."
      ],
      "metadata": {
        "id": "P1Q4DmE8tfd9"
      }
    },
    {
      "cell_type": "code",
      "source": [
        "# Creating a list\n",
        "my_list = [1, 2, 3, 4, 5]\n",
        "\n",
        "# Creating a tuple\n",
        "my_tuple = (10, 20, 30, 40, 50)\n",
        "\n",
        "# Creating a dictionary\n",
        "my_dict = {\n",
        "    'name': 'Alice',\n",
        "    'age': 30,\n",
        "    'city': 'Wonderland'\n",
        "}\n",
        "\n",
        "# Printing the list\n",
        "print(\"List:\", my_list)\n",
        "\n",
        "# Printing the tuple\n",
        "print(\"Tuple:\", my_tuple)\n",
        "\n",
        "# Printing the dictionary\n",
        "print(\"Dictionary:\", my_dict)\n"
      ],
      "metadata": {
        "colab": {
          "base_uri": "https://localhost:8080/"
        },
        "id": "StyGFJectcg6",
        "outputId": "255acae4-640d-4a4b-e4ce-93c731456e25"
      },
      "execution_count": null,
      "outputs": [
        {
          "output_type": "stream",
          "name": "stdout",
          "text": [
            "List: [1, 2, 3, 4, 5]\n",
            "Tuple: (10, 20, 30, 40, 50)\n",
            "Dictionary: {'name': 'Alice', 'age': 30, 'city': 'Wonderland'}\n"
          ]
        }
      ]
    },
    {
      "cell_type": "markdown",
      "source": [
        "27.  Write a code to create a list of 5 random numbers between 1 and 100, sort it in ascending order, and print the result.(replaced)"
      ],
      "metadata": {
        "id": "ODqnG5eBQtUL"
      }
    },
    {
      "cell_type": "code",
      "source": [
        "import random\n",
        "\n",
        "# Generate a list of 5 random numbers between 1 and 100\n",
        "random_numbers = [random.randint(1, 100) for _ in range(5)]\n",
        "\n",
        "# Sort the list in ascending order\n",
        "sorted_numbers = sorted(random_numbers)\n",
        "\n",
        "# Print the sorted list\n",
        "print(\"Sorted list:\", sorted_numbers)\n"
      ],
      "metadata": {
        "colab": {
          "base_uri": "https://localhost:8080/"
        },
        "id": "kkqiuFj9RDsC",
        "outputId": "bdfad897-8d1b-47b7-e3cd-eff09424fdcd"
      },
      "execution_count": null,
      "outputs": [
        {
          "output_type": "stream",
          "name": "stdout",
          "text": [
            "Sorted list: [6, 60, 65, 90, 98]\n"
          ]
        }
      ]
    },
    {
      "cell_type": "markdown",
      "source": [
        "28. Write a code to create a list with strings and the element at the third index."
      ],
      "metadata": {
        "id": "HDPhSNgdROXn"
      }
    },
    {
      "cell_type": "code",
      "source": [
        "# Creating a list with strings\n",
        "my_list = [\"apple\", \"banana\", \"cherry\", \"date\", \"elderberry\"]\n",
        "\n",
        "# Accessing the element at the third index (index starts from 0)\n",
        "third_element = my_list[3]\n",
        "\n",
        "# Printing the element at the third index\n",
        "print(\"The element at the third index is:\", third_element)\n"
      ],
      "metadata": {
        "colab": {
          "base_uri": "https://localhost:8080/"
        },
        "id": "soa_093HRMwl",
        "outputId": "89f6806a-c420-46d0-90d1-f3d598ad62d4"
      },
      "execution_count": null,
      "outputs": [
        {
          "output_type": "stream",
          "name": "stdout",
          "text": [
            "The element at the third index is: date\n"
          ]
        }
      ]
    },
    {
      "cell_type": "markdown",
      "source": [
        "29. Write a code to combine two dictionaries into one and print the result."
      ],
      "metadata": {
        "id": "ilJ-u3cPRwLk"
      }
    },
    {
      "cell_type": "code",
      "source": [
        "# Define two dictionaries\n",
        "dict1 = {'a': 1, 'b': 2, 'c': 3}\n",
        "dict2 = {'d': 4, 'e': 5, 'f': 6}\n",
        "\n",
        "# Combine the dictionaries\n",
        "combined_dict = {**dict1, **dict2}\n",
        "\n",
        "# Print the result\n",
        "print(\"Combined Dictionary:\", combined_dict)\n"
      ],
      "metadata": {
        "colab": {
          "base_uri": "https://localhost:8080/"
        },
        "id": "mlbYIfWhRrVl",
        "outputId": "fc8b264e-c595-4d10-eafd-b6b1efdd6625"
      },
      "execution_count": null,
      "outputs": [
        {
          "output_type": "stream",
          "name": "stdout",
          "text": [
            "Combined Dictionary: {'a': 1, 'b': 2, 'c': 3, 'd': 4, 'e': 5, 'f': 6}\n"
          ]
        }
      ]
    },
    {
      "cell_type": "markdown",
      "source": [
        "30. Write a code to convert a list of strings into a set."
      ],
      "metadata": {
        "id": "NnGqLCx5UY2t"
      }
    },
    {
      "cell_type": "code",
      "source": [
        "# Sample list of strings\n",
        "string_list = [\"apple\", \"banana\", \"cherry\", \"apple\", \"banana\"]\n",
        "\n",
        "# Convert list to set\n",
        "string_set = set(string_list)\n",
        "\n",
        "# Print the resulting set\n",
        "print(string_set)\n"
      ],
      "metadata": {
        "colab": {
          "base_uri": "https://localhost:8080/"
        },
        "id": "yuOxc33zTI5e",
        "outputId": "b36ae27e-2bc1-4d43-fa2d-e871395ebe8b"
      },
      "execution_count": null,
      "outputs": [
        {
          "output_type": "stream",
          "name": "stdout",
          "text": [
            "{'banana', 'apple', 'cherry'}\n"
          ]
        }
      ]
    },
    {
      "cell_type": "code",
      "source": [],
      "metadata": {
        "id": "AnCe-3lnTKCh"
      },
      "execution_count": null,
      "outputs": []
    }
  ]
}